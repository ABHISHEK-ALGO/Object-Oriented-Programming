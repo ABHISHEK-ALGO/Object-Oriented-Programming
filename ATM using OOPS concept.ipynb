{
 "cells": [
  {
   "cell_type": "code",
   "execution_count": 16,
   "id": "b92c6392",
   "metadata": {},
   "outputs": [],
   "source": [
    "class Atm:\n",
    "    \n",
    "    def __init__(self):\n",
    "        self.pin=\"\"\n",
    "        self.balance=0\n",
    "        self.menu()\n",
    "    def menu(self):\n",
    "        user_input=input(\"\"\"How would you like to proceed \n",
    "                          1. ENTER 1 to create pin\n",
    "                          2. ENTER 2 to make deposit\n",
    "                          3. ENTER 3 to withdraw \n",
    "                          4. ENTER 4 to check balance\n",
    "                          5. ENTER 5 to exit\n",
    "                          \"\"\")\n",
    "        if user_input=='1':\n",
    "            self.create_pin()\n",
    "        elif user_input=='2':\n",
    "            self.deposit()\n",
    "        elif user_input=='3':\n",
    "            self.withdraw()\n",
    "        elif user_input=='4':\n",
    "            self.check_balance()\n",
    "        elif user_input=='5':\n",
    "            print(\"exit\")\n",
    "    \n",
    "    def create_pin(self):\n",
    "        self.pin= input(\"enter the pin\")\n",
    "        print(\"sucessfully done\")\n",
    "    def deposit(self):\n",
    "        temp=input(\"enter your pin\")\n",
    "        if temp==self.pin:\n",
    "            amt = int(input(\"enter the amount\"))\n",
    "            self.balance=self.balance+amt\n",
    "            print(\"deposit sucessfully\")\n",
    "        else:\n",
    "            print(\"invalid pin\")\n",
    "    def withdraw(self):\n",
    "        temp=input(\"enter your pin\")\n",
    "        if temp==self.pin:\n",
    "            amt = int(input(\"enter the amount\"))\n",
    "            if amt<self.balance:\n",
    "                self.balance=self.balance-amt\n",
    "                print(\"operation sucessfull\")\n",
    "            else:\n",
    "                print (\"insufficient funds\")\n",
    "        else:\n",
    "            print(\"invalid pin\")\n",
    "    def check_balance(self):\n",
    "        temp=input(\"enter your pin\")\n",
    "        if temp==self.pin:\n",
    "            print(self.balance)\n",
    "        else:\n",
    "            print(\"invalid pin\")"
   ]
  },
  {
   "cell_type": "code",
   "execution_count": null,
   "id": "ea983bdb",
   "metadata": {},
   "outputs": [],
   "source": []
  },
  {
   "cell_type": "code",
   "execution_count": 17,
   "id": "c8302b30",
   "metadata": {},
   "outputs": [
    {
     "name": "stdout",
     "output_type": "stream",
     "text": [
      "How would you like to proceed \n",
      "                          1. ENTER 1 to create pin\n",
      "                          2. ENTER 2 to make deposit\n",
      "                          3. ENTER 3 to withdraw \n",
      "                          4. ENTER 4 to check balance\n",
      "                          5. ENTER 5 to exit\n",
      "                          1\n",
      "enter the pin1234\n",
      "sucessfully done\n"
     ]
    }
   ],
   "source": [
    "sbi = Atm()"
   ]
  },
  {
   "cell_type": "code",
   "execution_count": 18,
   "id": "6bab79ac",
   "metadata": {},
   "outputs": [
    {
     "name": "stdout",
     "output_type": "stream",
     "text": [
      "enter your pin1234\n",
      "enter the amount40000\n",
      "deposit sucessfully\n"
     ]
    }
   ],
   "source": [
    "sbi.deposit()"
   ]
  },
  {
   "cell_type": "code",
   "execution_count": 19,
   "id": "277eaa97",
   "metadata": {},
   "outputs": [
    {
     "name": "stdout",
     "output_type": "stream",
     "text": [
      "enter your pin1234\n",
      "enter the amount4000\n",
      "operation sucessfull\n"
     ]
    }
   ],
   "source": [
    "sbi.withdraw()"
   ]
  },
  {
   "cell_type": "code",
   "execution_count": 20,
   "id": "5fbf8001",
   "metadata": {
    "scrolled": true
   },
   "outputs": [
    {
     "name": "stdout",
     "output_type": "stream",
     "text": [
      "enter your pin1234\n",
      "36000\n"
     ]
    }
   ],
   "source": [
    "sbi.withdraw()"
   ]
  }
 ],
 "metadata": {
  "kernelspec": {
   "display_name": "Python 3 (ipykernel)",
   "language": "python",
   "name": "python3"
  },
  "language_info": {
   "codemirror_mode": {
    "name": "ipython",
    "version": 3
   },
   "file_extension": ".py",
   "mimetype": "text/x-python",
   "name": "python",
   "nbconvert_exporter": "python",
   "pygments_lexer": "ipython3",
   "version": "3.9.12"
  }
 },
 "nbformat": 4,
 "nbformat_minor": 5
}
